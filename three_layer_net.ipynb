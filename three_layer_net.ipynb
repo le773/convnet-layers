{
 "cells": [
  {
   "cell_type": "markdown",
   "metadata": {},
   "source": [
    "# Implementing a Neural Network\n",
    "In this exercise we will develop a neural network with fully-connected layers to perform classification, and test it out on the CIFAR-10 dataset."
   ]
  },
  {
   "cell_type": "code",
   "execution_count": 1,
   "metadata": {
    "collapsed": true
   },
   "outputs": [],
   "source": [
    "# A bit of setup\n",
    "import numpy as np\n",
    "import matplotlib.pyplot as plt\n",
    "import time\n",
    "\n",
    "from cs231n.classifiers.three_neural_net import ThreeLayerNet\n",
    "from cs231n.classifiers.three_neural_net import batchNormal\n",
    "\n",
    "from __future__ import print_function\n",
    "\n",
    "%matplotlib inline\n",
    "plt.rcParams['figure.figsize'] = (20.0, 16.0) # set default size of plots\n",
    "plt.rcParams['image.interpolation'] = 'nearest'\n",
    "plt.rcParams['image.cmap'] = 'gray'\n",
    "\n",
    "# for auto-reloading external modules\n",
    "# see http://stackoverflow.com/questions/1907993/autoreload-of-modules-in-ipython\n",
    "%load_ext autoreload\n",
    "%autoreload 2\n",
    "\n",
    "def rel_error(x, y):\n",
    "    \"\"\" returns relative error \"\"\"\n",
    "    return np.max(np.abs(x - y) / (np.maximum(1e-8, np.abs(x) + np.abs(y))))"
   ]
  },
  {
   "cell_type": "markdown",
   "metadata": {},
   "source": [
    "We will use the class `TwoLayerNet` in the file `cs231n/classifiers/neural_net.py` to represent instances of our network. The network parameters are stored in the instance variable `self.params` where keys are string parameter names and values are numpy arrays. Below, we initialize toy data and a toy model that we will use to develop your implementation."
   ]
  },
  {
   "cell_type": "code",
   "execution_count": 2,
   "metadata": {},
   "outputs": [],
   "source": [
    "# Create a small net and some toy data to check your implementations.\n",
    "# Note that we set the random seed for repeatable experiments.\n",
    "\n",
    "input_size = 4\n",
    "hidden_size1 = 20\n",
    "hidden_size2 = 10\n",
    "num_classes = 3\n",
    "num_inputs = 5\n",
    "\n",
    "def init_toy_model():\n",
    "    np.random.seed(0)\n",
    "    return ThreeLayerNet(input_size, hidden_size1, hidden_size2, num_classes, std=1e-1)\n",
    "\n",
    "def init_toy_data():\n",
    "    np.random.seed(1)\n",
    "    X = 10 * np.random.randn(num_inputs, input_size)\n",
    "    y = np.array([0, 1, 2, 2, 1])\n",
    "    return X, y\n",
    "\n",
    "net = init_toy_model()\n",
    "X, y = init_toy_data()"
   ]
  },
  {
   "cell_type": "markdown",
   "metadata": {},
   "source": [
    "# Forward pass: compute scores\n",
    "Open the file `cs231n/classifiers/neural_net.py` and look at the method `TwoLayerNet.loss`. This function is very similar to the loss functions you have written for the SVM and Softmax exercises: It takes the data and weights and computes the class scores, the loss, and the gradients on the parameters. \n",
    "\n",
    "Implement the first part of the forward pass which uses the weights and biases to compute the scores for all inputs."
   ]
  },
  {
   "cell_type": "code",
   "execution_count": 3,
   "metadata": {},
   "outputs": [
    {
     "name": "stdout",
     "output_type": "stream",
     "text": [
      "Your scores:\n",
      "[[ 2139.00682869  -572.5743846  -2089.871032  ]\n",
      " [ 1755.03371163  3044.20255004 -1043.54041677]\n",
      " [ -400.45807549  1539.62649862 -2249.07648374]\n",
      " [  -39.61747486    43.12178991   -10.94817834]\n",
      " [  354.44702748    44.1346653    169.31700457]]\n",
      "\n",
      "correct scores:\n",
      "[[-0.81233741 -1.27654624 -0.70335995]\n",
      " [-0.17129677 -1.18803311 -0.47310444]\n",
      " [-0.51590475 -1.01354314 -0.8504215 ]\n",
      " [-0.15419291 -0.48629638 -0.52901952]\n",
      " [-0.00618733 -0.12435261 -0.15226949]]\n",
      "\n",
      "Difference between your scores and correct scores:\n",
      "15494.42788897291\n"
     ]
    }
   ],
   "source": [
    "scores = net.loss(X)\n",
    "print('Your scores:')\n",
    "print(scores)\n",
    "print()\n",
    "print('correct scores:')\n",
    "correct_scores = np.asarray([\n",
    "  [-0.81233741, -1.27654624, -0.70335995],\n",
    "  [-0.17129677, -1.18803311, -0.47310444],\n",
    "  [-0.51590475, -1.01354314, -0.8504215 ],\n",
    "  [-0.15419291, -0.48629638, -0.52901952],\n",
    "  [-0.00618733, -0.12435261, -0.15226949]])\n",
    "print(correct_scores)\n",
    "print()\n",
    "\n",
    "# The difference should be very small. We get < 1e-7\n",
    "print('Difference between your scores and correct scores:')\n",
    "print(np.sum(np.abs(scores - correct_scores)))"
   ]
  },
  {
   "cell_type": "markdown",
   "metadata": {},
   "source": [
    "# Forward pass: compute loss\n",
    "In the same function, implement the second part that computes the data and regularizaion loss."
   ]
  },
  {
   "cell_type": "code",
   "execution_count": 4,
   "metadata": {},
   "outputs": [
    {
     "name": "stdout",
     "output_type": "stream",
     "text": [
      "Difference between your loss and correct loss:\n",
      "inf\n"
     ]
    },
    {
     "name": "stderr",
     "output_type": "stream",
     "text": [
      "D:\\ML\\convnet-layers\\cs231n\\classifiers\\three_neural_net.py:132: RuntimeWarning: overflow encountered in exp\n",
      "  exp_scores = np.exp(scores)\n",
      "D:\\ML\\convnet-layers\\cs231n\\classifiers\\three_neural_net.py:133: RuntimeWarning: invalid value encountered in true_divide\n",
      "  probs = exp_scores / np.sum(exp_scores, axis=1, keepdims=True)\n",
      "D:\\ML\\convnet-layers\\cs231n\\classifiers\\three_neural_net.py:134: RuntimeWarning: divide by zero encountered in log\n",
      "  correct_logprobs = -np.log(probs[range(N),y])\n"
     ]
    }
   ],
   "source": [
    "loss, _ = net.loss(X, y, reg=0.05)\n",
    "correct_loss = 1.30378789133\n",
    "\n",
    "# should be very small, we get < 1e-12\n",
    "print('Difference between your loss and correct loss:')\n",
    "print(np.sum(np.abs(loss - correct_loss)))"
   ]
  },
  {
   "cell_type": "code",
   "execution_count": 5,
   "metadata": {},
   "outputs": [
    {
     "name": "stdout",
     "output_type": "stream",
     "text": [
      "dict_keys(['W2', 'b2', 'D1', 'e1', 'W1', 'b1'])\n"
     ]
    },
    {
     "name": "stderr",
     "output_type": "stream",
     "text": [
      "D:\\ML\\convnet-layers\\cs231n\\classifiers\\three_neural_net.py:132: RuntimeWarning: overflow encountered in exp\n",
      "  exp_scores = np.exp(scores)\n",
      "D:\\ML\\convnet-layers\\cs231n\\classifiers\\three_neural_net.py:133: RuntimeWarning: invalid value encountered in true_divide\n",
      "  probs = exp_scores / np.sum(exp_scores, axis=1, keepdims=True)\n",
      "D:\\ML\\convnet-layers\\cs231n\\classifiers\\three_neural_net.py:134: RuntimeWarning: divide by zero encountered in log\n",
      "  correct_logprobs = -np.log(probs[range(N),y])\n"
     ]
    }
   ],
   "source": [
    "print(net.loss(X, y, reg=0.05)[1].keys())"
   ]
  },
  {
   "cell_type": "markdown",
   "metadata": {},
   "source": [
    "# Backward pass\n",
    "Implement the rest of the function. This will compute the gradient of the loss with respect to the variables `W1`, `b1`, `W2`, and `b2`. Now that you (hopefully!) have a correctly implemented forward pass, you can debug your backward pass using a numeric gradient check:"
   ]
  },
  {
   "cell_type": "code",
   "execution_count": 6,
   "metadata": {},
   "outputs": [
    {
     "name": "stderr",
     "output_type": "stream",
     "text": [
      "D:\\ML\\convnet-layers\\cs231n\\classifiers\\three_neural_net.py:132: RuntimeWarning: overflow encountered in exp\n",
      "  exp_scores = np.exp(scores)\n",
      "D:\\ML\\convnet-layers\\cs231n\\classifiers\\three_neural_net.py:133: RuntimeWarning: invalid value encountered in true_divide\n",
      "  probs = exp_scores / np.sum(exp_scores, axis=1, keepdims=True)\n",
      "D:\\ML\\convnet-layers\\cs231n\\classifiers\\three_neural_net.py:134: RuntimeWarning: divide by zero encountered in log\n",
      "  correct_logprobs = -np.log(probs[range(N),y])\n",
      "D:\\ML\\convnet-layers\\cs231n\\gradient_check.py:30: RuntimeWarning: invalid value encountered in double_scalars\n",
      "  grad[ix] = (fxph - fxmh) / (2 * h) # the slope\n",
      "C:\\ProgramData\\Anaconda3\\envs\\tensorflow\\lib\\site-packages\\ipykernel_launcher.py:23: RuntimeWarning: invalid value encountered in maximum\n",
      "C:\\ProgramData\\Anaconda3\\envs\\tensorflow\\lib\\site-packages\\numpy\\core\\_methods.py:26: RuntimeWarning: invalid value encountered in reduce\n",
      "  return umr_maximum(a, axis, None, out, keepdims)\n"
     ]
    },
    {
     "name": "stdout",
     "output_type": "stream",
     "text": [
      "W2 max relative error: nan\n",
      "b2 max relative error: nan\n",
      "D1 max relative error: nan\n",
      "e1 max relative error: nan\n",
      "W1 max relative error: nan\n",
      "b1 max relative error: nan\n"
     ]
    }
   ],
   "source": [
    "from cs231n.gradient_check import eval_numerical_gradient\n",
    "\n",
    "# Use numeric gradient checking to check your implementation of the backward pass.\n",
    "# If your implementation is correct, the difference between the numeric and\n",
    "# analytic gradients should be less than 1e-8 for each of W1, W2, b1, and b2.\n",
    "\n",
    "loss, grads = net.loss(X, y, reg=0.05)\n",
    "\n",
    "# these should all be less than 1e-8 or so\n",
    "for param_name in grads:\n",
    "    f = lambda W: net.loss(X, y, reg=0.05)[0]\n",
    "    param_grad_num = eval_numerical_gradient(f, net.params[param_name], verbose=False)\n",
    "    print('%s max relative error: %e' % (param_name, rel_error(param_grad_num, grads[param_name])))"
   ]
  },
  {
   "cell_type": "markdown",
   "metadata": {},
   "source": [
    "# Train the network\n",
    "To train the network we will use stochastic gradient descent (SGD), similar to the SVM and Softmax classifiers. Look at the function `TwoLayerNet.train` and fill in the missing sections to implement the training procedure. This should be very similar to the training procedure you used for the SVM and Softmax classifiers. You will also have to implement `TwoLayerNet.predict`, as the training process periodically performs prediction to keep track of accuracy over time while the network trains.\n",
    "\n",
    "Once you have implemented the method, run the code below to train a two-layer network on toy data. You should achieve a training loss less than 0.2."
   ]
  },
  {
   "cell_type": "code",
   "execution_count": 7,
   "metadata": {},
   "outputs": [
    {
     "name": "stdout",
     "output_type": "stream",
     "text": [
      "iterations_per_epoch:1 num_train:5 batch_size:200 num_iters:100\n",
      "Final training loss:  nan\n"
     ]
    },
    {
     "name": "stderr",
     "output_type": "stream",
     "text": [
      "D:\\ML\\convnet-layers\\cs231n\\classifiers\\three_neural_net.py:132: RuntimeWarning: overflow encountered in exp\n",
      "  exp_scores = np.exp(scores)\n",
      "D:\\ML\\convnet-layers\\cs231n\\classifiers\\three_neural_net.py:133: RuntimeWarning: invalid value encountered in true_divide\n",
      "  probs = exp_scores / np.sum(exp_scores, axis=1, keepdims=True)\n",
      "D:\\ML\\convnet-layers\\cs231n\\classifiers\\three_neural_net.py:134: RuntimeWarning: divide by zero encountered in log\n",
      "  correct_logprobs = -np.log(probs[range(N),y])\n",
      "D:\\ML\\convnet-layers\\cs231n\\classifiers\\three_neural_net.py:313: RuntimeWarning: invalid value encountered in maximum\n",
      "  relu_pred1 = np.maximum(0, out1_pred)\n",
      "D:\\ML\\convnet-layers\\cs231n\\classifiers\\three_neural_net.py:315: RuntimeWarning: invalid value encountered in maximum\n",
      "  relu2_pred = np.maximum(0, out2_pred)\n",
      "D:\\ML\\convnet-layers\\cs231n\\classifiers\\three_neural_net.py:96: RuntimeWarning: invalid value encountered in maximum\n",
      "  relu_tmp = np.maximum(0.01*out1, 6*out1)\n",
      "D:\\ML\\convnet-layers\\cs231n\\classifiers\\three_neural_net.py:101: RuntimeWarning: invalid value encountered in maximum\n",
      "  relu = np.maximum(0.01*scores_tmp, 6*scores_tmp)\n",
      "D:\\ML\\convnet-layers\\cs231n\\classifiers\\three_neural_net.py:173: RuntimeWarning: invalid value encountered in less_equal\n",
      "  p1_tmp[relu <= 0] = 0\n",
      "D:\\ML\\convnet-layers\\cs231n\\classifiers\\three_neural_net.py:187: RuntimeWarning: invalid value encountered in less_equal\n",
      "  p1[relu_tmp <= 0] = 0\n"
     ]
    },
    {
     "data": {
      "image/png": "[encoded data removed]",
      "text/plain": [
       "<matplotlib.figure.Figure at 0x9b46da0>"
      ]
     },
     "metadata": {},
     "output_type": "display_data"
    }
   ],
   "source": [
    "net = init_toy_model()\n",
    "stats = net.train(X, y, X, y,\n",
    "            learning_rate=1e-1, reg=5e-6,\n",
    "            num_iters=100, verbose=False)\n",
    "\n",
    "print('Final training loss: ', stats['loss_history'][-1])\n",
    "\n",
    "# plot the loss history\n",
    "plt.plot(stats['loss_history'])\n",
    "plt.xlabel('iteration')\n",
    "plt.ylabel('training loss')\n",
    "plt.title('Training Loss history')\n",
    "plt.show()"
   ]
  },
  {
   "cell_type": "markdown",
   "metadata": {},
   "source": [
    "# Load the data\n",
    "Now that you have implemented a two-layer network that passes gradient checks and works on toy data, it's time to load up our favorite CIFAR-10 data so we can use it to train a classifier on a real dataset."
   ]
  },
  {
   "cell_type": "code",
   "execution_count": null,
   "metadata": {
    "collapsed": true
   },
   "outputs": [],
   "source": []
  },
  {
   "cell_type": "code",
   "execution_count": 8,
   "metadata": {},
   "outputs": [
    {
     "name": "stdout",
     "output_type": "stream",
     "text": [
      "Train data shape:  (49000, 3072)\n",
      "Train labels shape:  (49000,)\n",
      "Validation data shape:  (1000, 3072)\n",
      "Validation labels shape:  (1000,)\n",
      "Test data shape:  (5000, 3072)\n",
      "Test labels shape:  (5000,)\n"
     ]
    }
   ],
   "source": [
    "from cs231n.data_utils import load_CIFAR10\n",
    "\n",
    "def get_CIFAR10_data(num_training=49000, num_validation=1000, num_test=5000):\n",
    "    \"\"\"\n",
    "    Load the CIFAR-10 dataset from disk and perform preprocessing to prepare\n",
    "    it for the two-layer neural net classifier. These are the same steps as\n",
    "    we used for the SVM, but condensed to a single function.  \n",
    "    \"\"\"\n",
    "    # Load the raw CIFAR-10 data\n",
    "    cifar10_dir = 'cs231n/datasets/cifar-10-batches-py'\n",
    "    X_train, y_train, X_test, y_test = load_CIFAR10(cifar10_dir)\n",
    "        \n",
    "    # Subsample the data\n",
    "    mask = list(range(num_training, num_training + num_validation))\n",
    "    X_val = X_train[mask]\n",
    "    y_val = y_train[mask]\n",
    "    mask = list(range(num_training))\n",
    "    X_train = X_train[mask]\n",
    "    y_train = y_train[mask]\n",
    "    mask = list(range(num_test))\n",
    "    X_test = X_test[mask]\n",
    "    y_test = y_test[mask]\n",
    "\n",
    "    # Normalize the data: subtract the mean image\n",
    "    mean_image = np.mean(X_train, axis=0)\n",
    "    X_train -= mean_image\n",
    "    X_val -= mean_image\n",
    "    X_test -= mean_image\n",
    "\n",
    "    # Reshape data to rows\n",
    "    X_train = X_train.reshape(num_training, -1)\n",
    "    X_val = X_val.reshape(num_validation, -1)\n",
    "    X_test = X_test.reshape(num_test, -1)\n",
    "\n",
    "    return X_train, y_train, X_val, y_val, X_test, y_test\n",
    "\n",
    "\n",
    "# Invoke the above function to get our data.\n",
    "X_train, y_train, X_val, y_val, X_test, y_test = get_CIFAR10_data()\n",
    "# X_train = batchNormal(X_train)\n",
    "# # y_train = batchNormal(y_train)\n",
    "# X_val = batchNormal(X_val)\n",
    "# # y_val = batchNormal(y_val)\n",
    "# X_test = batchNormal(X_test)\n",
    "# # y_test = batchNormal(y_test)\n",
    "print('Train data shape: ', X_train.shape)\n",
    "print('Train labels shape: ', y_train.shape)\n",
    "print('Validation data shape: ', X_val.shape)\n",
    "print('Validation labels shape: ', y_val.shape)\n",
    "print('Test data shape: ', X_test.shape)\n",
    "print('Test labels shape: ', y_test.shape)"
   ]
  },
  {
   "cell_type": "markdown",
   "metadata": {},
   "source": [
    "# Train a network\n",
    "To train our network we will use SGD with momentum. In addition, we will adjust the learning rate with an exponential learning rate schedule as optimization proceeds; after each epoch, we will reduce the learning rate by multiplying it by a decay rate."
   ]
  },
  {
   "cell_type": "markdown",
   "metadata": {},
   "source": [
    "### 计算损失值\n",
    "参考：[CS231n 2018 最小的神经网络案例学习](https://blog.csdn.net/tech0ne/article/details/80564239)"
   ]
  },
  {
   "cell_type": "code",
   "execution_count": 9,
   "metadata": {},
   "outputs": [
    {
     "name": "stdout",
     "output_type": "stream",
     "text": [
      "iterations_per_epoch:245.0 num_train:49000 batch_size:200 num_iters:500\n"
     ]
    },
    {
     "name": "stderr",
     "output_type": "stream",
     "text": [
      "D:\\ML\\convnet-layers\\cs231n\\classifiers\\three_neural_net.py:132: RuntimeWarning: overflow encountered in exp\n",
      "  exp_scores = np.exp(scores)\n",
      "D:\\ML\\convnet-layers\\cs231n\\classifiers\\three_neural_net.py:133: RuntimeWarning: invalid value encountered in true_divide\n",
      "  probs = exp_scores / np.sum(exp_scores, axis=1, keepdims=True)\n",
      "D:\\ML\\convnet-layers\\cs231n\\classifiers\\three_neural_net.py:134: RuntimeWarning: divide by zero encountered in log\n",
      "  correct_logprobs = -np.log(probs[range(N),y])\n",
      "D:\\ML\\convnet-layers\\cs231n\\classifiers\\three_neural_net.py:313: RuntimeWarning: invalid value encountered in maximum\n",
      "  relu_pred1 = np.maximum(0, out1_pred)\n",
      "D:\\ML\\convnet-layers\\cs231n\\classifiers\\three_neural_net.py:315: RuntimeWarning: invalid value encountered in maximum\n",
      "  relu2_pred = np.maximum(0, out2_pred)\n"
     ]
    },
    {
     "name": "stdout",
     "output_type": "stream",
     "text": [
      "iteration 0 / 500: loss nan\n"
     ]
    },
    {
     "name": "stderr",
     "output_type": "stream",
     "text": [
      "D:\\ML\\convnet-layers\\cs231n\\classifiers\\three_neural_net.py:96: RuntimeWarning: invalid value encountered in maximum\n",
      "  relu_tmp = np.maximum(0.01*out1, 6*out1)\n",
      "D:\\ML\\convnet-layers\\cs231n\\classifiers\\three_neural_net.py:101: RuntimeWarning: invalid value encountered in maximum\n",
      "  relu = np.maximum(0.01*scores_tmp, 6*scores_tmp)\n",
      "D:\\ML\\convnet-layers\\cs231n\\classifiers\\three_neural_net.py:173: RuntimeWarning: invalid value encountered in less_equal\n",
      "  p1_tmp[relu <= 0] = 0\n",
      "D:\\ML\\convnet-layers\\cs231n\\classifiers\\three_neural_net.py:187: RuntimeWarning: invalid value encountered in less_equal\n",
      "  p1[relu_tmp <= 0] = 0\n"
     ]
    },
    {
     "name": "stdout",
     "output_type": "stream",
     "text": [
      "iteration 100 / 500: loss nan\n",
      "iteration 200 / 500: loss nan\n",
      "iteration 300 / 500: loss nan\n",
      "iteration 400 / 500: loss nan\n",
      "Validation accuracy:  0.087\n",
      "iterations_per_epoch:245.0 num_train:49000 batch_size:200 num_iters:500\n",
      "iteration 0 / 500: loss nan\n",
      "iteration 100 / 500: loss nan\n",
      "iteration 200 / 500: loss nan\n",
      "iteration 300 / 500: loss nan\n",
      "iteration 400 / 500: loss nan\n",
      "Validation accuracy:  0.087\n",
      "iterations_per_epoch:245.0 num_train:49000 batch_size:200 num_iters:500\n",
      "iteration 0 / 500: loss nan\n",
      "iteration 100 / 500: loss nan\n",
      "iteration 200 / 500: loss nan\n",
      "iteration 300 / 500: loss nan\n",
      "iteration 400 / 500: loss nan\n",
      "Validation accuracy:  0.087\n",
      "iterations_per_epoch:245.0 num_train:49000 batch_size:200 num_iters:500\n",
      "iteration 0 / 500: loss nan\n",
      "iteration 100 / 500: loss nan\n",
      "iteration 200 / 500: loss nan\n",
      "iteration 300 / 500: loss nan\n",
      "iteration 400 / 500: loss nan\n",
      "Validation accuracy:  0.087\n",
      "iterations_per_epoch:245.0 num_train:49000 batch_size:200 num_iters:500\n",
      "iteration 0 / 500: loss nan\n",
      "iteration 100 / 500: loss nan\n",
      "iteration 200 / 500: loss nan\n",
      "iteration 300 / 500: loss nan\n",
      "iteration 400 / 500: loss nan\n",
      "Validation accuracy:  0.087\n",
      "iterations_per_epoch:245.0 num_train:49000 batch_size:200 num_iters:500\n",
      "iteration 0 / 500: loss nan\n",
      "iteration 100 / 500: loss nan\n",
      "iteration 200 / 500: loss nan\n",
      "iteration 300 / 500: loss nan\n",
      "iteration 400 / 500: loss nan\n",
      "Validation accuracy:  0.087\n",
      "iterations_per_epoch:245.0 num_train:49000 batch_size:200 num_iters:500\n",
      "iteration 0 / 500: loss nan\n",
      "iteration 100 / 500: loss nan\n",
      "iteration 200 / 500: loss nan\n",
      "iteration 300 / 500: loss nan\n",
      "iteration 400 / 500: loss nan\n",
      "Validation accuracy:  0.087\n",
      "iterations_per_epoch:245.0 num_train:49000 batch_size:200 num_iters:500\n",
      "iteration 0 / 500: loss nan\n",
      "iteration 100 / 500: loss nan\n",
      "iteration 200 / 500: loss nan\n",
      "iteration 300 / 500: loss nan\n",
      "iteration 400 / 500: loss nan\n",
      "Validation accuracy:  0.087\n"
     ]
    }
   ],
   "source": [
    "input_size = 32 * 32 * 3\n",
    "hidden_size1 = 512\n",
    "hidden_size2 = 64\n",
    "num_classes = 10\n",
    "net = ThreeLayerNet(input_size, hidden_size1, hidden_size2, num_classes)\n",
    "# Train the network\n",
    "learning_rates = [5e-1, 1e-4, 1e-5, 1e-6, 1e-7, 1e-8, 1e-9, 1e-10]\n",
    "num_iter=500\n",
    "for learning_rate in learning_rates:\n",
    "    stats = net.train(X_train, y_train, X_val, y_val,\n",
    "                num_iters=num_iter, batch_size=200,\n",
    "                learning_rate=1e-7, learning_rate_decay=0.95,\n",
    "                reg=0.5, verbose=True)\n",
    "\n",
    "    # Predict on the validation set\n",
    "    val_acc = (net.predict(X_val) == y_val).mean()\n",
    "    print('Validation accuracy: ', val_acc)"
   ]
  },
  {
   "cell_type": "markdown",
   "metadata": {},
   "source": [
    "# Debug the training\n",
    "With the default parameters we provided above, you should get a validation accuracy of about 0.29 on the validation set. This isn't very good.\n",
    "\n",
    "One strategy for getting insight into what's wrong is to plot the loss function and the accuracies on the training and validation sets during optimization.\n",
    "\n",
    "Another strategy is to visualize the weights that were learned in the first layer of the network. In most neural networks trained on visual data, the first layer weights typically show some visible structure when visualized."
   ]
  },
  {
   "cell_type": "code",
   "execution_count": 10,
   "metadata": {},
   "outputs": [
    {
     "data": {
      "image/png": "[encoded data removed]",
      "text/plain": [
       "<matplotlib.figure.Figure at 0xbb80710>"
      ]
     },
     "metadata": {},
     "output_type": "display_data"
    }
   ],
   "source": [
    "# Plot the loss function and train / validation accuracies\n",
    "plt.subplot(2, 1, 1)\n",
    "plt.plot(stats['loss_history'])\n",
    "plt.title('Loss history')\n",
    "plt.xlabel('Iteration')\n",
    "plt.ylabel('Loss')\n",
    "\n",
    "plt.subplot(2, 1, 2)\n",
    "t1, = plt.plot(stats['train_acc_history'], color='r',label='train')\n",
    "t2, = plt.plot(stats['val_acc_history'], color='g', label='val')\n",
    "plt.title('Classification accuracy history')\n",
    "plt.xlabel('Epoch')\n",
    "plt.ylabel('accuracy')\n",
    "plt.legend(handles = [t1, t2,], labels=['train', 'val'])\n",
    "plt.show()"
   ]
  },
  {
   "cell_type": "code",
   "execution_count": 11,
   "metadata": {},
   "outputs": [
    {
     "name": "stderr",
     "output_type": "stream",
     "text": [
      "C:\\ProgramData\\Anaconda3\\envs\\tensorflow\\lib\\site-packages\\numpy\\core\\_methods.py:29: RuntimeWarning: invalid value encountered in reduce\n",
      "  return umr_minimum(a, axis, None, out, keepdims)\n",
      "C:\\ProgramData\\Anaconda3\\envs\\tensorflow\\lib\\site-packages\\numpy\\core\\_methods.py:26: RuntimeWarning: invalid value encountered in reduce\n",
      "  return umr_maximum(a, axis, None, out, keepdims)\n"
     ]
    },
    {
     "data": {
      "image/png": "[encoded data removed]",
      "text/plain": [
       "<matplotlib.figure.Figure at 0x9b46be0>"
      ]
     },
     "metadata": {},
     "output_type": "display_data"
    }
   ],
   "source": [
    "from cs231n.vis_utils import visualize_grid\n",
    "\n",
    "# Visualize the weights of the network\n",
    "\n",
    "def show_net_weights(net):\n",
    "    W1 = net.params['W1']\n",
    "    W1 = W1.reshape(32, 32, 3, -1).transpose(3, 0, 1, 2)\n",
    "    plt.imshow(visualize_grid(W1, padding=3).astype('uint8'))\n",
    "    plt.gca().axis('off')\n",
    "    plt.show()\n",
    "\n",
    "show_net_weights(net)"
   ]
  },
  {
   "cell_type": "markdown",
   "metadata": {},
   "source": [
    "# Tune your hyperparameters\n",
    "\n",
    "**What's wrong?**. Looking at the visualizations above, we see that the loss is decreasing more or less linearly, which seems to suggest that the learning rate may be too low. Moreover, there is no gap between the training and validation accuracy, suggesting that the model we used has low capacity, and that we should increase its size. On the other hand, with a very large model we would expect to see more overfitting, which would manifest itself as a very large gap between the training and validation accuracy.\n",
    "\n",
    "**Tuning**. Tuning the hyperparameters and developing intuition for how they affect the final performance is a large part of using Neural Networks, so we want you to get a lot of practice. Below, you should experiment with different values of the various hyperparameters, including hidden layer size, learning rate, numer of training epochs, and regularization strength. You might also consider tuning the learning rate decay, but you should be able to get good performance using the default value.\n",
    "\n",
    "**Approximate results**. You should be aim to achieve a classification accuracy of greater than 48% on the validation set. Our best network gets over 52% on the validation set.\n",
    "\n",
    "**Experiment**: You goal in this exercise is to get as good of a result on CIFAR-10 as you can, with a fully-connected Neural Network. For every 1% above 52% on the Test set we will award you with one extra bonus point. Feel free implement your own techniques (e.g. PCA to reduce dimensionality, or adding dropout, or adding features to the solver, etc.)."
   ]
  },
  {
   "cell_type": "code",
   "execution_count": 12,
   "metadata": {},
   "outputs": [
    {
     "name": "stdout",
     "output_type": "stream",
     "text": [
      "iterations_per_epoch:245.0 num_train:49000 batch_size:200 num_iters:500\n",
      "iteration 0 / 500: loss nan\n"
     ]
    },
    {
     "name": "stderr",
     "output_type": "stream",
     "text": [
      "D:\\ML\\convnet-layers\\cs231n\\classifiers\\three_neural_net.py:132: RuntimeWarning: overflow encountered in exp\n",
      "  exp_scores = np.exp(scores)\n",
      "D:\\ML\\convnet-layers\\cs231n\\classifiers\\three_neural_net.py:133: RuntimeWarning: invalid value encountered in true_divide\n",
      "  probs = exp_scores / np.sum(exp_scores, axis=1, keepdims=True)\n",
      "D:\\ML\\convnet-layers\\cs231n\\classifiers\\three_neural_net.py:134: RuntimeWarning: divide by zero encountered in log\n",
      "  correct_logprobs = -np.log(probs[range(N),y])\n",
      "D:\\ML\\convnet-layers\\cs231n\\classifiers\\three_neural_net.py:313: RuntimeWarning: invalid value encountered in maximum\n",
      "  relu_pred1 = np.maximum(0, out1_pred)\n",
      "D:\\ML\\convnet-layers\\cs231n\\classifiers\\three_neural_net.py:315: RuntimeWarning: invalid value encountered in maximum\n",
      "  relu2_pred = np.maximum(0, out2_pred)\n",
      "D:\\ML\\convnet-layers\\cs231n\\classifiers\\three_neural_net.py:96: RuntimeWarning: invalid value encountered in maximum\n",
      "  relu_tmp = np.maximum(0.01*out1, 6*out1)\n",
      "D:\\ML\\convnet-layers\\cs231n\\classifiers\\three_neural_net.py:101: RuntimeWarning: invalid value encountered in maximum\n",
      "  relu = np.maximum(0.01*scores_tmp, 6*scores_tmp)\n",
      "D:\\ML\\convnet-layers\\cs231n\\classifiers\\three_neural_net.py:173: RuntimeWarning: invalid value encountered in less_equal\n",
      "  p1_tmp[relu <= 0] = 0\n",
      "D:\\ML\\convnet-layers\\cs231n\\classifiers\\three_neural_net.py:187: RuntimeWarning: invalid value encountered in less_equal\n",
      "  p1[relu_tmp <= 0] = 0\n"
     ]
    },
    {
     "name": "stdout",
     "output_type": "stream",
     "text": [
      "iteration 100 / 500: loss nan\n",
      "iteration 200 / 500: loss nan\n",
      "iteration 300 / 500: loss nan\n",
      "iteration 400 / 500: loss nan\n",
      "count: 0 -->localtime: Fri Jun 22 17:48:02 2018 <--- time: 61.0094895362854\n",
      "acc_val: 0.10666666666666667\n",
      "std_dev: 0.05\n",
      "iterations_per_epoch:245.0 num_train:49000 batch_size:200 num_iters:500\n",
      "iteration 0 / 500: loss nan\n",
      "iteration 100 / 500: loss nan\n",
      "iteration 200 / 500: loss nan\n",
      "iteration 300 / 500: loss nan\n",
      "iteration 400 / 500: loss nan\n",
      "count: 1 -->localtime: Fri Jun 22 17:49:03 2018 <--- time: 61.07649350166321\n",
      "iterations_per_epoch:245.0 num_train:49000 batch_size:200 num_iters:500\n",
      "iteration 0 / 500: loss nan\n",
      "iteration 100 / 500: loss nan\n",
      "iteration 200 / 500: loss nan\n",
      "iteration 300 / 500: loss nan\n",
      "iteration 400 / 500: loss nan\n",
      "count: 2 -->localtime: Fri Jun 22 17:50:04 2018 <--- time: 61.64552593231201\n",
      "iterations_per_epoch:245.0 num_train:49000 batch_size:200 num_iters:500\n",
      "iteration 0 / 500: loss nan\n",
      "iteration 100 / 500: loss nan\n",
      "iteration 200 / 500: loss nan\n",
      "iteration 300 / 500: loss nan\n",
      "iteration 400 / 500: loss nan\n",
      "count: 3 -->localtime: Fri Jun 22 17:51:06 2018 <--- time: 61.61052393913269\n",
      "iterations_per_epoch:245.0 num_train:49000 batch_size:200 num_iters:500\n",
      "iteration 0 / 500: loss nan\n",
      "iteration 100 / 500: loss nan\n",
      "iteration 200 / 500: loss nan\n",
      "iteration 300 / 500: loss nan\n",
      "iteration 400 / 500: loss nan\n",
      "count: 4 -->localtime: Fri Jun 22 17:52:08 2018 <--- time: 61.594523191452026\n",
      "iterations_per_epoch:245.0 num_train:49000 batch_size:200 num_iters:500\n",
      "iteration 0 / 500: loss nan\n",
      "iteration 100 / 500: loss nan\n",
      "iteration 200 / 500: loss nan\n",
      "iteration 300 / 500: loss nan\n",
      "iteration 400 / 500: loss nan\n",
      "count: 5 -->localtime: Fri Jun 22 17:53:09 2018 <--- time: 61.05449199676514\n",
      "iterations_per_epoch:245.0 num_train:49000 batch_size:200 num_iters:500\n",
      "iteration 0 / 500: loss nan\n",
      "iteration 100 / 500: loss nan\n",
      "iteration 200 / 500: loss nan\n",
      "iteration 300 / 500: loss nan\n",
      "iteration 400 / 500: loss nan\n",
      "count: 6 -->localtime: Fri Jun 22 17:54:10 2018 <--- time: 61.19550013542175\n",
      "iterations_per_epoch:245.0 num_train:49000 batch_size:200 num_iters:500\n",
      "iteration 0 / 500: loss nan\n",
      "iteration 100 / 500: loss nan\n",
      "iteration 200 / 500: loss nan\n",
      "iteration 300 / 500: loss nan\n",
      "iteration 400 / 500: loss nan\n",
      "count: 7 -->localtime: Fri Jun 22 17:55:11 2018 <--- time: 61.05749225616455\n",
      "iterations_per_epoch:245.0 num_train:49000 batch_size:200 num_iters:500\n",
      "iteration 0 / 500: loss nan\n",
      "iteration 100 / 500: loss nan\n",
      "iteration 200 / 500: loss nan\n",
      "iteration 300 / 500: loss nan\n",
      "iteration 400 / 500: loss nan\n",
      "count: 8 -->localtime: Fri Jun 22 17:56:12 2018 <--- time: 61.211501121520996\n",
      "iterations_per_epoch:245.0 num_train:49000 batch_size:200 num_iters:500\n",
      "iteration 0 / 500: loss nan\n",
      "iteration 100 / 500: loss nan\n",
      "iteration 200 / 500: loss nan\n",
      "iteration 300 / 500: loss nan\n",
      "iteration 400 / 500: loss nan\n",
      "count: 9 -->localtime: Fri Jun 22 17:57:13 2018 <--- time: 61.30050611495972\n",
      "iterations_per_epoch:245.0 num_train:49000 batch_size:200 num_iters:500\n",
      "iteration 0 / 500: loss nan\n",
      "iteration 100 / 500: loss nan\n",
      "iteration 200 / 500: loss nan\n",
      "iteration 300 / 500: loss nan\n",
      "iteration 400 / 500: loss nan\n",
      "count: 10 -->localtime: Fri Jun 22 17:58:15 2018 <--- time: 61.21550130844116\n",
      "iterations_per_epoch:245.0 num_train:49000 batch_size:200 num_iters:500\n",
      "iteration 0 / 500: loss nan\n",
      "iteration 100 / 500: loss nan\n",
      "iteration 200 / 500: loss nan\n",
      "iteration 300 / 500: loss nan\n",
      "iteration 400 / 500: loss nan\n",
      "count: 11 -->localtime: Fri Jun 22 17:59:15 2018 <--- time: 60.821478843688965\n",
      "acc_val: 0.11333333333333333\n",
      "std_dev: 0.05\n",
      "iterations_per_epoch:245.0 num_train:49000 batch_size:200 num_iters:500\n",
      "iteration 0 / 500: loss nan\n",
      "iteration 100 / 500: loss nan\n",
      "iteration 200 / 500: loss nan\n",
      "iteration 300 / 500: loss nan\n",
      "iteration 400 / 500: loss nan\n",
      "count: 12 -->localtime: Fri Jun 22 18:00:17 2018 <--- time: 61.06449246406555\n",
      "iterations_per_epoch:245.0 num_train:49000 batch_size:200 num_iters:500\n",
      "iteration 0 / 500: loss nan\n",
      "iteration 100 / 500: loss nan\n",
      "iteration 200 / 500: loss nan\n",
      "iteration 300 / 500: loss nan\n",
      "iteration 400 / 500: loss nan\n",
      "count: 13 -->localtime: Fri Jun 22 18:01:17 2018 <--- time: 60.77847647666931\n",
      "iterations_per_epoch:245.0 num_train:49000 batch_size:200 num_iters:500\n",
      "iteration 0 / 500: loss nan\n",
      "iteration 100 / 500: loss nan\n",
      "iteration 200 / 500: loss nan\n",
      "iteration 300 / 500: loss nan\n",
      "iteration 400 / 500: loss nan\n",
      "count: 14 -->localtime: Fri Jun 22 18:02:18 2018 <--- time: 60.98948836326599\n",
      "iterations_per_epoch:245.0 num_train:49000 batch_size:200 num_iters:500\n",
      "iteration 0 / 500: loss nan\n",
      "iteration 100 / 500: loss nan\n",
      "iteration 200 / 500: loss nan\n",
      "iteration 300 / 500: loss nan\n",
      "iteration 400 / 500: loss nan\n",
      "count: 15 -->localtime: Fri Jun 22 18:03:19 2018 <--- time: 60.85248041152954\n",
      "iterations_per_epoch:245.0 num_train:49000 batch_size:200 num_iters:500\n",
      "iteration 0 / 500: loss nan\n",
      "iteration 100 / 500: loss nan\n",
      "iteration 200 / 500: loss nan\n",
      "iteration 300 / 500: loss nan\n",
      "iteration 400 / 500: loss nan\n",
      "count: 16 -->localtime: Fri Jun 22 18:04:20 2018 <--- time: 60.96048665046692\n",
      "iterations_per_epoch:245.0 num_train:49000 batch_size:200 num_iters:500\n",
      "iteration 0 / 500: loss nan\n",
      "iteration 100 / 500: loss nan\n",
      "iteration 200 / 500: loss nan\n",
      "iteration 300 / 500: loss nan\n",
      "iteration 400 / 500: loss nan\n",
      "count: 17 -->localtime: Fri Jun 22 18:05:21 2018 <--- time: 60.691471338272095\n",
      "iterations_per_epoch:245.0 num_train:49000 batch_size:200 num_iters:500\n",
      "iteration 0 / 500: loss nan\n",
      "iteration 100 / 500: loss nan\n",
      "iteration 200 / 500: loss nan\n",
      "iteration 300 / 500: loss nan\n",
      "iteration 400 / 500: loss nan\n",
      "count: 18 -->localtime: Fri Jun 22 18:06:22 2018 <--- time: 61.03549075126648\n",
      "iterations_per_epoch:245.0 num_train:49000 batch_size:200 num_iters:500\n",
      "iteration 0 / 500: loss nan\n",
      "iteration 100 / 500: loss nan\n",
      "iteration 200 / 500: loss nan\n",
      "iteration 300 / 500: loss nan\n",
      "iteration 400 / 500: loss nan\n",
      "count: 19 -->localtime: Fri Jun 22 18:07:23 2018 <--- time: 60.89948344230652\n"
     ]
    }
   ],
   "source": [
    "best_net = None # store the best model into this \n",
    "\n",
    "#################################################################################\n",
    "# TODO: Tune hyperparameters using the validation set. Store your best trained  #\n",
    "# model in best_net.                                                            #\n",
    "#                                                                               #\n",
    "# To help debug your network, it may help to use visualizations similar to the  #\n",
    "# ones we used above; these visualizations will have significant qualitative    #\n",
    "# differences from the ones we saw above for the poorly tuned network.          #\n",
    "#                                                                               #\n",
    "# Tweaking hyperparameters by hand can be fun, but you might find it useful to  #\n",
    "# write code to sweep through possible combinations of hyperparameters          #\n",
    "# automatically like we did on the previous exercises.                          #\n",
    "#################################################################################\n",
    "import random\n",
    "\n",
    "best_val = -1\n",
    "best_stats = None\n",
    "bast_net = None\n",
    "regularization_strengths = [5e-2]\n",
    "learning_rates = [1.6e-3]\n",
    "# std_devs=[3e-2, 5e-2, 7e-2]\n",
    "std_devs=[5e-2]\n",
    "learning_rate_decays = [0.95]\n",
    "results = {}\n",
    "iters = 500\n",
    "hidden_size1 = 512\n",
    "hidden_size2 = 128\n",
    "max_count = 20\n",
    "for count in range(max_count):\n",
    "    for hidden_size1 in [512]:\n",
    "        for hidden_size2 in [128]:\n",
    "            if hidden_size1 == hidden_size2:\n",
    "                continue\n",
    "            for std_dev in std_devs:\n",
    "                for lr in learning_rates:\n",
    "                    for rs in regularization_strengths:\n",
    "                        for learning_rate_decay in learning_rate_decays:\n",
    "                            rs = 10**random.uniform(-4,1)\n",
    "                            lr = 10**random.uniform(-4,1)\n",
    "                            t0 = time.time()\n",
    "                            net = ThreeLayerNet(input_size, hidden_size1, hidden_size2, num_classes, std=std_dev)\n",
    "                            stats = net.train(X_train, y_train, X_val, y_val,\n",
    "                                num_iters=iters, learning_rate=lr, batch_size=200, learning_rate_decay=learning_rate_decay,\n",
    "                                reg=rs, verbose=True)\n",
    "\n",
    "                            mask = np.random.choice(X_train.shape[0], 200, replace=True)\n",
    "                            X_batch = X_train[mask]\n",
    "                            y_batch = y_train[mask]\n",
    "                            acc_train = (net.predict(X_batch) == y_batch).mean()\n",
    "\n",
    "                            mask = np.random.choice(X_val.shape[0], 300, replace=True)\n",
    "                            X_val_batch= X_val[mask]\n",
    "                            y_val_batch = y_val[mask]\n",
    "                            acc_val = (net.predict(X_val_batch) == y_val_batch).mean()\n",
    "                            \n",
    "                            results[(lr,rs,std_dev,learning_rate_decay)] = (acc_train, acc_val,std_dev,learning_rate_decay)\n",
    "                            \n",
    "                            t1 = time.time()\n",
    "                            localtime = time.asctime(time.localtime(t1))\n",
    "                            print('count:', count, '-->localtime:',localtime, '<--- time:', t1-t0)\n",
    "\n",
    "                            if best_val < acc_val:\n",
    "                                print('acc_val:', acc_val)\n",
    "                                print('std_dev:', std_dev)\n",
    "                                best_std_dev = std_dev\n",
    "                                best_stats = stats\n",
    "                                best_val = acc_val\n",
    "                                best_net = net\n",
    "                                best_hidden1 = hidden_size1\n",
    "                                best_hidden2 = hidden_size2\n",
    "                                best_std_dev = std_dev\n",
    "                                best_lr = lr\n",
    "                                best_rg = rs\n",
    "                                best_learning_rate_decay = learning_rate_decay\n",
    "#################################################################################\n",
    "#                               END OF YOUR CODE                                #\n",
    "#################################################################################"
   ]
  },
  {
   "cell_type": "code",
   "execution_count": 13,
   "metadata": {},
   "outputs": [
    {
     "ename": "KeyError",
     "evalue": "(0.00012032258594321673, 0.00010599770810102708)",
     "output_type": "error",
     "traceback": [
      "\u001b[1;31m---------------------------------------------------------------------------\u001b[0m",
      "\u001b[1;31mKeyError\u001b[0m                                  Traceback (most recent call last)",
      "\u001b[1;32m<ipython-input-13-cc9562d04e2a>\u001b[0m in \u001b[0;36m<module>\u001b[1;34m()\u001b[0m\n\u001b[0;32m      1\u001b[0m \u001b[1;32mfor\u001b[0m \u001b[0mlr\u001b[0m\u001b[1;33m,\u001b[0m\u001b[0mreg\u001b[0m\u001b[1;33m,\u001b[0m\u001b[0mstd_dev\u001b[0m\u001b[1;33m,\u001b[0m\u001b[0mlearning_rate_decay\u001b[0m \u001b[1;32min\u001b[0m \u001b[0msorted\u001b[0m\u001b[1;33m(\u001b[0m\u001b[0mresults\u001b[0m\u001b[1;33m)\u001b[0m\u001b[1;33m:\u001b[0m\u001b[1;33m\u001b[0m\u001b[0m\n\u001b[1;32m----> 2\u001b[1;33m     \u001b[0mtrain_accuracy\u001b[0m\u001b[1;33m,\u001b[0m \u001b[0mval_accuracy\u001b[0m \u001b[1;33m=\u001b[0m \u001b[0mresults\u001b[0m\u001b[1;33m[\u001b[0m\u001b[1;33m(\u001b[0m\u001b[0mlr\u001b[0m\u001b[1;33m,\u001b[0m\u001b[0mreg\u001b[0m\u001b[1;33m)\u001b[0m\u001b[1;33m]\u001b[0m\u001b[1;33m\u001b[0m\u001b[0m\n\u001b[0m\u001b[0;32m      3\u001b[0m     \u001b[0mprint\u001b[0m\u001b[1;33m(\u001b[0m\u001b[1;34m'lr '\u001b[0m\u001b[1;33m,\u001b[0m \u001b[0mlr\u001b[0m\u001b[1;33m,\u001b[0m \u001b[1;34m' reg '\u001b[0m\u001b[1;33m,\u001b[0m \u001b[0mreg\u001b[0m\u001b[1;33m,\u001b[0m \u001b[1;34m' train_accuracy: '\u001b[0m\u001b[1;33m,\u001b[0m \u001b[0mtrain_accuracy\u001b[0m\u001b[1;33m,\u001b[0m \u001b[1;34m' val_accuracy: '\u001b[0m\u001b[1;33m,\u001b[0m \u001b[0mval_acc\u001b[0m\u001b[1;33m,\u001b[0m \u001b[1;34m' std_dev: '\u001b[0m\u001b[1;33m,\u001b[0m \u001b[0mstd_dev\u001b[0m\u001b[1;33m,\u001b[0m \u001b[1;34m' learning_rate_decay: '\u001b[0m\u001b[1;33m,\u001b[0m\u001b[0mlearning_rate_decay\u001b[0m\u001b[1;33m)\u001b[0m\u001b[1;33m\u001b[0m\u001b[0m\n\u001b[0;32m      4\u001b[0m \u001b[0mprint\u001b[0m\u001b[1;33m(\u001b[0m\u001b[1;34m'best_val:'\u001b[0m\u001b[1;33m,\u001b[0m \u001b[0mbest_val\u001b[0m\u001b[1;33m)\u001b[0m\u001b[1;33m\u001b[0m\u001b[0m\n\u001b[0;32m      5\u001b[0m \u001b[0mprint\u001b[0m\u001b[1;33m(\u001b[0m\u001b[1;34m'best_hidden1'\u001b[0m\u001b[1;33m,\u001b[0m \u001b[0mbest_hidden1\u001b[0m\u001b[1;33m)\u001b[0m\u001b[1;33m\u001b[0m\u001b[0m\n",
      "\u001b[1;31mKeyError\u001b[0m: (0.00012032258594321673, 0.00010599770810102708)"
     ]
    }
   ],
   "source": [
    "for lr,reg,std_dev,learning_rate_decay in sorted(results):\n",
    "    train_accuracy, val_accuracy = results[(lr,reg)]\n",
    "    print('lr ', lr, ' reg ', reg, ' train_accuracy: ', train_accuracy, ' val_accuracy: ', val_acc, ' std_dev: ', std_dev, ' learning_rate_decay: ',learning_rate_decay)\n",
    "print('best_val:', best_val)\n",
    "print('best_hidden1', best_hidden1)\n",
    "print('best_hidden2', best_hidden2)\n",
    "print('best_lr', best_lr)\n",
    "print('best_rg', best_rg)\n",
    "print('best_std_dev', best_std_dev)\n",
    "print('best_learning_rate_decay:', best_learning_rate_decay)"
   ]
  },
  {
   "cell_type": "code",
   "execution_count": null,
   "metadata": {},
   "outputs": [],
   "source": [
    "# visualize the weights of the best network\n",
    "show_net_weights(best_net)"
   ]
  },
  {
   "cell_type": "markdown",
   "metadata": {},
   "source": [
    "# Run on the test set\n",
    "When you are done experimenting, you should evaluate your final trained network on the test set; you should get above 48%.\n",
    "\n",
    "**We will give you extra bonus point for every 1% of accuracy above 52%.**"
   ]
  },
  {
   "cell_type": "code",
   "execution_count": null,
   "metadata": {},
   "outputs": [],
   "source": [
    "test_acc = (net.predict(X_test) == y_test).mean()\n",
    "print('Test accuracy: ', test_acc)"
   ]
  },
  {
   "cell_type": "code",
   "execution_count": null,
   "metadata": {
    "collapsed": true
   },
   "outputs": [],
   "source": []
  }
 ],
 "metadata": {
  "kernelspec": {
   "display_name": "Python 3",
   "language": "python",
   "name": "python3"
  },
  "language_info": {
   "codemirror_mode": {
    "name": "ipython",
    "version": 3
   },
   "file_extension": ".py",
   "mimetype": "text/x-python",
   "name": "python",
   "nbconvert_exporter": "python",
   "pygments_lexer": "ipython3",
   "version": "3.6.2"
  }
 },
 "nbformat": 4,
 "nbformat_minor": 1
}
